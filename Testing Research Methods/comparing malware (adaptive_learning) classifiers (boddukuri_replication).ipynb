{
  "nbformat": 4,
  "nbformat_minor": 0,
  "metadata": {
    "colab": {
      "provenance": []
    },
    "kernelspec": {
      "name": "python3",
      "display_name": "Python 3"
    },
    "language_info": {
      "name": "python"
    }
  },
  "cells": [
    {
      "cell_type": "markdown",
      "source": [
        "This file is a replication of an unpublished masters thesis from SJSU. However, it uses a limited data set, since I created this file to ensure that the pipelines later used in my paper properly work.\n",
        "\n",
        "Although I am uploading this file now, this file was originally mostly modified June 25-26, and briefly modified on July 21."
      ],
      "metadata": {
        "id": "C7cLFda-_fBd"
      }
    },
    {
      "cell_type": "code",
      "source": [
        "from google.colab import drive\n",
        "drive.mount('/content/drive')"
      ],
      "metadata": {
        "id": "3yQWP3DDeedg"
      },
      "execution_count": null,
      "outputs": []
    },
    {
      "cell_type": "code",
      "source": [
        "!pip3 install river"
      ],
      "metadata": {
        "id": "Iz2KyPmptbLu"
      },
      "execution_count": null,
      "outputs": []
    },
    {
      "cell_type": "code",
      "source": [
        "import pandas as pd\n",
        "import numpy as np\n",
        "import matplotlib.pyplot as plt\n",
        "import plotly.express as px\n",
        "import seaborn as sns\n",
        "import os\n",
        "from sklearn.feature_extraction.text import CountVectorizer\n",
        "from sklearn.model_selection import train_test_split\n",
        "from sklearn.ensemble import RandomForestClassifier\n",
        "from sklearn.neighbors import KNeighborsClassifier\n",
        "from sklearn.ensemble import AdaBoostClassifier\n",
        "from sklearn.svm import SVC\n",
        "import sklearn.metrics as skm\n",
        "from sklearn.utils import shuffle\n",
        "\n",
        "from gensim.models import Word2Vec\n",
        "\n",
        "from river import forest\n",
        "from river import metrics\n",
        "from river import evaluate\n",
        "from river import stream\n",
        "from river import neighbors\n",
        "from river import drift\n",
        "from river import ensemble\n",
        "from river import compat\n",
        "from river import tree"
      ],
      "metadata": {
        "id": "Wu1yeDJqj_71"
      },
      "execution_count": null,
      "outputs": []
    },
    {
      "cell_type": "code",
      "source": [
        "df = pd.read_csv('/content/drive/MyDrive/23-24/summer 24/malware.csv')"
      ],
      "metadata": {
        "id": "OE_EhG4cuqFL"
      },
      "execution_count": null,
      "outputs": []
    },
    {
      "cell_type": "code",
      "source": [
        "df = shuffle(df)"
      ],
      "metadata": {
        "id": "_SLNnGwoeEHr"
      },
      "execution_count": null,
      "outputs": []
    },
    {
      "cell_type": "markdown",
      "source": [
        "# Data Preprocessing (don't run, import df)"
      ],
      "metadata": {
        "id": "aqKxtojNWYjw"
      }
    },
    {
      "cell_type": "markdown",
      "source": [
        "import files from google drive into data frames\n"
      ],
      "metadata": {
        "id": "9pew2y8xQ4Jg"
      }
    },
    {
      "cell_type": "code",
      "source": [
        "df = pd.DataFrame(columns = ['filename', 'text', 'label'])\n",
        "# winwebsec\n",
        "for filename in os.listdir('/content/drive/MyDrive/23-24/summer 24/malware2/winwebsec'):\n",
        "  if filename.endswith('.txt'):\n",
        "    path = '/content/drive/MyDrive/23-24/summer 24/malware2/winwebsec/' + filename\n",
        "    with open(path, 'r') as file:\n",
        "      text = file.read().replace('\\n', ' ')\n",
        "    df.loc[int(len(df.index))]  = [filename, text, 'winwebsec']\n",
        "\n",
        "# zbot\n",
        "for filename in os.listdir('/content/drive/MyDrive/23-24/summer 24/malware2/zbot'):\n",
        "  if filename.endswith('.txt'):\n",
        "    path = '/content/drive/MyDrive/23-24/summer 24/malware2/zbot/' + filename\n",
        "    with open(path, 'r') as file:\n",
        "      text = file.read().replace('\\n', ' ')\n",
        "    df.loc[int(len(df.index))]  = [filename, text, 'zbot']\n",
        "\n",
        "# zeroaccess\n",
        "for filename in os.listdir('/content/drive/MyDrive/23-24/summer 24/malware2/zeroaccess'):\n",
        "  path = '/content/drive/MyDrive/23-24/summer 24/malware2/zeroaccess/' + filename\n",
        "  if filename.endswith('.txt'):\n",
        "    with open(path, 'r') as file:\n",
        "      text = file.read().replace('\\n', ' ')\n",
        "    df.loc[int(len(df.index))]  = [filename, text, 'zeroaccess']"
      ],
      "metadata": {
        "id": "KuuHZa1DkLgs"
      },
      "execution_count": null,
      "outputs": []
    },
    {
      "cell_type": "code",
      "source": [
        "df.drop_duplicates(inplace = True)\n",
        "df.dropna(inplace = True)"
      ],
      "metadata": {
        "id": "KBMz0jNKYL4Y"
      },
      "execution_count": null,
      "outputs": []
    },
    {
      "cell_type": "markdown",
      "source": [
        "distribution of malware families"
      ],
      "metadata": {
        "id": "WIK3zEEbWcRV"
      }
    },
    {
      "source": [
        "df.groupby('label').size().plot(kind='barh', color=sns.palettes.mpl_palette('Dark2'))\n",
        "plt.gca().spines[['top', 'right',]].set_visible(False)"
      ],
      "cell_type": "code",
      "execution_count": null,
      "outputs": [
        {
          "output_type": "display_data",
          "data": {
            "text/plain": [
              "<Figure size 640x480 with 1 Axes>"
            ],
            "image/png": "[encoded data removed]"
          },
          "metadata": {}
        }
      ],
      "metadata": {
        "colab": {
          "base_uri": "https://localhost:8080/",
          "height": 430
        },
        "id": "5fDrR2VoV3FJ",
        "outputId": "ad5f3ce3-1176-4db3-d184-d9cf740518e0"
      }
    },
    {
      "cell_type": "markdown",
      "source": [
        "convert text column into opcode columns"
      ],
      "metadata": {
        "id": "K2klBUu9WlIH"
      }
    },
    {
      "cell_type": "code",
      "source": [
        "vectorizer = CountVectorizer()\n",
        "vectorize = vectorizer.fit_transform(df['text'])\n",
        "\n",
        "opcode_df = pd.DataFrame(vectorize.toarray(), columns = vectorizer.get_feature_names_out())\n",
        "df = pd.concat([df, opcode_df], axis = 1)"
      ],
      "metadata": {
        "id": "Z-pcqU6vWp70"
      },
      "execution_count": null,
      "outputs": []
    },
    {
      "cell_type": "markdown",
      "source": [
        "drop filename and text columns"
      ],
      "metadata": {
        "id": "mQEBypMXbOho"
      }
    },
    {
      "cell_type": "code",
      "source": [
        "df.drop('filename', axis = 1, inplace = True)\n",
        "df.drop('text', axis = 1, inplace = True)"
      ],
      "metadata": {
        "id": "NE8zPwi9bNC8"
      },
      "execution_count": null,
      "outputs": []
    },
    {
      "cell_type": "code",
      "source": [
        "df.to_csv('malware.csv', index = False)"
      ],
      "metadata": {
        "id": "owtCTB7wsIX9"
      },
      "execution_count": null,
      "outputs": []
    },
    {
      "cell_type": "markdown",
      "source": [
        "# Train Models (non-adaptive)"
      ],
      "metadata": {
        "id": "MA5_iB00buDL"
      }
    },
    {
      "cell_type": "code",
      "source": [
        "X_train, X_test, y_train, y_test = train_test_split(df.drop('label', axis = 1), df['label'], test_size = 0.2, random_state = 42)"
      ],
      "metadata": {
        "id": "2z8-NaHZbw9S"
      },
      "execution_count": null,
      "outputs": []
    },
    {
      "cell_type": "markdown",
      "source": [
        "random forest classifier"
      ],
      "metadata": {
        "id": "s-Mns9VxcT_N"
      }
    },
    {
      "cell_type": "code",
      "source": [
        "rfc = RandomForestClassifier()\n",
        "rfc.fit(X_train, y_train)\n",
        "y_pred_rfc = rfc.predict(X_test)"
      ],
      "metadata": {
        "id": "TG45zDRab5kr"
      },
      "execution_count": null,
      "outputs": []
    },
    {
      "cell_type": "markdown",
      "source": [
        "kNN classifier"
      ],
      "metadata": {
        "id": "mmWru0GacVE2"
      }
    },
    {
      "cell_type": "code",
      "source": [
        "knn = KNeighborsClassifier()\n",
        "knn.fit(X_train, y_train)\n",
        "y_pred_knn = knn.predict(X_test)"
      ],
      "metadata": {
        "id": "JFbBomX9cZ68"
      },
      "execution_count": null,
      "outputs": []
    },
    {
      "cell_type": "markdown",
      "source": [
        "adaboost classifier"
      ],
      "metadata": {
        "id": "M70_LMvLcfnF"
      }
    },
    {
      "cell_type": "code",
      "source": [
        "ada = AdaBoostClassifier()\n",
        "ada.fit(X_train, y_train)\n",
        "y_pred_ada = ada.predict(X_test)"
      ],
      "metadata": {
        "id": "kuFPSrN0cfTz"
      },
      "execution_count": null,
      "outputs": []
    },
    {
      "cell_type": "markdown",
      "source": [
        "svm classifier"
      ],
      "metadata": {
        "id": "-uirzeOtzsVI"
      }
    },
    {
      "cell_type": "code",
      "source": [
        "svm = SVC()\n",
        "svm.fit(X_train, y_train)\n",
        "y_pred_svm = svm.predict(X_test)"
      ],
      "metadata": {
        "id": "nk5yE3cmztW8"
      },
      "execution_count": null,
      "outputs": []
    },
    {
      "cell_type": "markdown",
      "source": [
        "# Train Models (Word2Vec)"
      ],
      "metadata": {
        "id": "KtLkrLxr0VeO"
      }
    },
    {
      "cell_type": "code",
      "source": [
        "df_w2v = pd.read_csv('/content/drive/MyDrive/23-24/summer 24/malware_2vec.csv')"
      ],
      "metadata": {
        "id": "fGtmRwMN0YfR"
      },
      "execution_count": null,
      "outputs": []
    },
    {
      "cell_type": "markdown",
      "source": [
        "Continuous Bag of Words"
      ],
      "metadata": {
        "id": "GuRKws7tZPU9"
      }
    },
    {
      "cell_type": "code",
      "source": [
        "DIMENSIONS = 150\n",
        "texts = [str(text).split() for text in df_w2v['text']]\n",
        "w2v = Word2Vec(texts, vector_size = DIMENSIONS)"
      ],
      "metadata": {
        "id": "Ly3-hZoc2xSP"
      },
      "execution_count": null,
      "outputs": []
    },
    {
      "cell_type": "code",
      "source": [
        "keyed_vecs = w2v.wv"
      ],
      "metadata": {
        "id": "H6M4qI5J3P_u"
      },
      "execution_count": null,
      "outputs": []
    },
    {
      "cell_type": "code",
      "source": [
        "X = []\n",
        "for sample in df_w2v['text']:\n",
        "  sum = 0       # sum of all vectors\n",
        "  count = 0     # number of vectors in the average\n",
        "  for split in str(sample).split(): # for each token\n",
        "    try:                    # test to see if token is in keyed vector dictionary\n",
        "      keyed_vecs[split]\n",
        "    except KeyError:\n",
        "      continue\n",
        "    sum += keyed_vecs[split]\n",
        "    count += 1\n",
        "  if count != 0:\n",
        "    X.append(sum/count)     # add averaged vector to X\n",
        "  else:\n",
        "    X.append(np.zeros(DIMENSIONS)) # if no vectors are in dictionary, add a neutral, zero vector\n",
        "\n",
        "# split data set\n",
        "X_trainw2v,X_testw2v,y_trainw2v,y_testw2v=train_test_split(X, df_w2v['label'], test_size=0.1, random_state=7)"
      ],
      "metadata": {
        "id": "vJjRYG2O3Q0W"
      },
      "execution_count": null,
      "outputs": []
    },
    {
      "cell_type": "code",
      "source": [
        "w2v_rfc = RandomForestClassifier()\n",
        "w2v_rfc.fit(X_trainw2v, y_trainw2v)\n",
        "y_pred_w2v_rfc = w2v_rfc.predict(X_testw2v)"
      ],
      "metadata": {
        "id": "FGW04-H54MYf"
      },
      "execution_count": null,
      "outputs": []
    },
    {
      "cell_type": "markdown",
      "source": [
        "Skip Gram"
      ],
      "metadata": {
        "id": "RUKGl_fQZefm"
      }
    },
    {
      "cell_type": "code",
      "source": [
        "w2v_sg = Word2Vec(texts, vector_size = DIMENSIONS, sg = 1)"
      ],
      "metadata": {
        "id": "S_cOODyLZfKj"
      },
      "execution_count": null,
      "outputs": []
    },
    {
      "cell_type": "code",
      "source": [
        "keyed_vecs_sg = w2v_sg.wv"
      ],
      "metadata": {
        "id": "pTxbxkBqZ36-"
      },
      "execution_count": null,
      "outputs": []
    },
    {
      "cell_type": "code",
      "source": [
        "X_sg = []\n",
        "for sample in df_w2v['text']:\n",
        "  sum = 0       # sum of all vectors\n",
        "  count = 0     # number of vectors in the average\n",
        "  for split in str(sample).split(): # for each token\n",
        "    try:                    # test to see if token is in keyed vector dictionary\n",
        "      keyed_vecs_sg[split]\n",
        "    except KeyError:\n",
        "      continue\n",
        "    sum += keyed_vecs_sg[split]\n",
        "    count += 1\n",
        "  if count != 0:\n",
        "    X_sg.append(sum/count)     # add averaged vector to X\n",
        "  else:\n",
        "    X_sg.append(np.zeros(DIMENSIONS)) # if no vectors are in dictionary, add a neutral, zero vector\n",
        "\n",
        "# split data set\n",
        "X_trainw2v_sg,X_testw2v_sg,y_trainw2v_sg,y_testw2v_sg=train_test_split(X_sg, df_w2v['label'], test_size=0.1, random_state=7)"
      ],
      "metadata": {
        "id": "uFWsYfqyZ8up"
      },
      "execution_count": null,
      "outputs": []
    },
    {
      "cell_type": "code",
      "source": [
        "w2v_sg_rfc = RandomForestClassifier()\n",
        "w2v_sg_rfc.fit(X_trainw2v_sg, y_trainw2v_sg)\n",
        "y_pred_w2v_sg_rfc = w2v_sg_rfc.predict(X_testw2v_sg)"
      ],
      "metadata": {
        "id": "KI8hjJQ9aG3S"
      },
      "execution_count": null,
      "outputs": []
    },
    {
      "cell_type": "markdown",
      "source": [
        "# Evaluate"
      ],
      "metadata": {
        "id": "jiyb45yDc4ue"
      }
    },
    {
      "cell_type": "code",
      "source": [
        "evaluation_df = pd.DataFrame(columns = ['Model', 'Accuracy', 'Confusion Matrix'])"
      ],
      "metadata": {
        "id": "AcywhjIeS9Jh"
      },
      "execution_count": null,
      "outputs": []
    },
    {
      "cell_type": "code",
      "execution_count": null,
      "metadata": {
        "id": "tPskqpQG1u1u"
      },
      "outputs": [],
      "source": [
        "def evaluate(df, name, y_pred, y_test):\n",
        "  acc = skm.accuracy_score(y_test, y_pred)\n",
        "  #prec = str(skm.precision_score(y_test, y_pred))\n",
        "  #recall = str(skm.recall_score(y_test, y_pred))\n",
        "  #f1 = str(skm.f1_score(y_test, y_pred))\n",
        "  conf = str(skm.confusion_matrix(y_test, y_pred))\n",
        "  df.loc[int(len(df.index))] = [name, acc, conf]\n",
        "  return df"
      ]
    },
    {
      "cell_type": "code",
      "source": [
        "evaluate(evaluation_df, \"rfc\", y_pred_rfc, y_test)"
      ],
      "metadata": {
        "id": "TqmIRj9X80C9",
        "collapsed": true
      },
      "execution_count": null,
      "outputs": []
    },
    {
      "cell_type": "code",
      "source": [
        "evaluate(evaluation_df, \"knn\", y_pred_knn, y_test)"
      ],
      "metadata": {
        "id": "slRViwK1ddQT",
        "collapsed": true
      },
      "execution_count": null,
      "outputs": []
    },
    {
      "cell_type": "code",
      "source": [
        "evaluate(evaluation_df, \"ada\", y_pred_ada, y_test)"
      ],
      "metadata": {
        "id": "74aVDpWgdhIb",
        "collapsed": true
      },
      "execution_count": null,
      "outputs": []
    },
    {
      "cell_type": "code",
      "source": [
        "evaluate(evaluation_df, \"svm\", y_pred_svm, y_test)"
      ],
      "metadata": {
        "collapsed": true,
        "id": "2cc8BTNYz6_k"
      },
      "execution_count": null,
      "outputs": []
    },
    {
      "cell_type": "code",
      "source": [
        "evaluate(evaluation_df, \"w2v rfc\", y_pred_w2v_rfc, y_testw2v)"
      ],
      "metadata": {
        "collapsed": true,
        "id": "8ovFvJ8T4dpp"
      },
      "execution_count": null,
      "outputs": []
    },
    {
      "cell_type": "code",
      "source": [
        "evaluate(evaluation_df, \"w2v sg rfc\", y_pred_w2v_sg_rfc, y_testw2v_sg)"
      ],
      "metadata": {
        "colab": {
          "base_uri": "https://localhost:8080/",
          "height": 238
        },
        "id": "PxlGigygaO2t",
        "outputId": "4ea77278-1ea9-4a3f-9088-b66017105d19"
      },
      "execution_count": null,
      "outputs": [
        {
          "output_type": "execute_result",
          "data": {
            "text/plain": [
              "        Model  Accuracy                                 Confusion Matrix\n",
              "0         rfc  0.998078  [[860   0   0]\\n [  1 424   0]\\n [  0   2 274]]\n",
              "1         knn  0.997438  [[860   0   0]\\n [  1 423   1]\\n [  1   1 274]]\n",
              "2         ada  0.960922  [[806  54   0]\\n [  4 421   0]\\n [  0   3 273]]\n",
              "3         svm  0.905189  [[859   0   1]\\n [142 280   3]\\n [  0   2 274]]\n",
              "4     w2v rfc  0.997439  [[465   1   0]\\n [  0 196   1]\\n [  0   0 118]]\n",
              "5  w2v sg rfc  0.997439  [[465   1   0]\\n [  0 196   1]\\n [  0   0 118]]"
            ],
            "text/html": [
              "\n",
              "  <div id=\"df-59c11f44-cd12-457b-9874-662f23631a19\" class=\"colab-df-container\">\n",
              "    <div>\n",
              "<style scoped>\n",
              "    .dataframe tbody tr th:only-of-type {\n",
              "        vertical-align: middle;\n",
              "    }\n",
              "\n",
              "    .dataframe tbody tr th {\n",
              "        vertical-align: top;\n",
              "    }\n",
              "\n",
              "    .dataframe thead th {\n",
              "        text-align: right;\n",
              "    }\n",
              "</style>\n",
              "<table border=\"1\" class=\"dataframe\">\n",
              "  <thead>\n",
              "    <tr style=\"text-align: right;\">\n",
              "      <th></th>\n",
              "      <th>Model</th>\n",
              "      <th>Accuracy</th>\n",
              "      <th>Confusion Matrix</th>\n",
              "    </tr>\n",
              "  </thead>\n",
              "  <tbody>\n",
              "    <tr>\n",
              "      <th>0</th>\n",
              "      <td>rfc</td>\n",
              "      <td>0.998078</td>\n",
              "      <td>[[860   0   0]\\n [  1 424   0]\\n [  0   2 274]]</td>\n",
              "    </tr>\n",
              "    <tr>\n",
              "      <th>1</th>\n",
              "      <td>knn</td>\n",
              "      <td>0.997438</td>\n",
              "      <td>[[860   0   0]\\n [  1 423   1]\\n [  1   1 274]]</td>\n",
              "    </tr>\n",
              "    <tr>\n",
              "      <th>2</th>\n",
              "      <td>ada</td>\n",
              "      <td>0.960922</td>\n",
              "      <td>[[806  54   0]\\n [  4 421   0]\\n [  0   3 273]]</td>\n",
              "    </tr>\n",
              "    <tr>\n",
              "      <th>3</th>\n",
              "      <td>svm</td>\n",
              "      <td>0.905189</td>\n",
              "      <td>[[859   0   1]\\n [142 280   3]\\n [  0   2 274]]</td>\n",
              "    </tr>\n",
              "    <tr>\n",
              "      <th>4</th>\n",
              "      <td>w2v rfc</td>\n",
              "      <td>0.997439</td>\n",
              "      <td>[[465   1   0]\\n [  0 196   1]\\n [  0   0 118]]</td>\n",
              "    </tr>\n",
              "    <tr>\n",
              "      <th>5</th>\n",
              "      <td>w2v sg rfc</td>\n",
              "      <td>0.997439</td>\n",
              "      <td>[[465   1   0]\\n [  0 196   1]\\n [  0   0 118]]</td>\n",
              "    </tr>\n",
              "  </tbody>\n",
              "</table>\n",
              "</div>\n",
              "    <div class=\"colab-df-buttons\">\n",
              "\n",
              "  <div class=\"colab-df-container\">\n",
              "    <button class=\"colab-df-convert\" onclick=\"convertToInteractive('df-59c11f44-cd12-457b-9874-662f23631a19')\"\n",
              "            title=\"Convert this dataframe to an interactive table.\"\n",
              "            style=\"display:none;\">\n",
              "\n",
              "  <svg xmlns=\"http://www.w3.org/2000/svg\" height=\"24px\" viewBox=\"0 -960 960 960\">\n",
              "    <path d=\"M120-120v-720h720v720H120Zm60-500h600v-160H180v160Zm220 220h160v-160H400v160Zm0 220h160v-160H400v160ZM180-400h160v-160H180v160Zm440 0h160v-160H620v160ZM180-180h160v-160H180v160Zm440 0h160v-160H620v160Z\"/>\n",
              "  </svg>\n",
              "    </button>\n",
              "\n",
              "  <style>\n",
              "    .colab-df-container {\n",
              "      display:flex;\n",
              "      gap: 12px;\n",
              "    }\n",
              "\n",
              "    .colab-df-convert {\n",
              "      background-color: #E8F0FE;\n",
              "      border: none;\n",
              "      border-radius: 50%;\n",
              "      cursor: pointer;\n",
              "      display: none;\n",
              "      fill: #1967D2;\n",
              "      height: 32px;\n",
              "      padding: 0 0 0 0;\n",
              "      width: 32px;\n",
              "    }\n",
              "\n",
              "    .colab-df-convert:hover {\n",
              "      background-color: #E2EBFA;\n",
              "      box-shadow: 0px 1px 2px rgba(60, 64, 67, 0.3), 0px 1px 3px 1px rgba(60, 64, 67, 0.15);\n",
              "      fill: #174EA6;\n",
              "    }\n",
              "\n",
              "    .colab-df-buttons div {\n",
              "      margin-bottom: 4px;\n",
              "    }\n",
              "\n",
              "    [theme=dark] .colab-df-convert {\n",
              "      background-color: #3B4455;\n",
              "      fill: #D2E3FC;\n",
              "    }\n",
              "\n",
              "    [theme=dark] .colab-df-convert:hover {\n",
              "      background-color: #434B5C;\n",
              "      box-shadow: 0px 1px 3px 1px rgba(0, 0, 0, 0.15);\n",
              "      filter: drop-shadow(0px 1px 2px rgba(0, 0, 0, 0.3));\n",
              "      fill: #FFFFFF;\n",
              "    }\n",
              "  </style>\n",
              "\n",
              "    <script>\n",
              "      const buttonEl =\n",
              "        document.querySelector('#df-59c11f44-cd12-457b-9874-662f23631a19 button.colab-df-convert');\n",
              "      buttonEl.style.display =\n",
              "        google.colab.kernel.accessAllowed ? 'block' : 'none';\n",
              "\n",
              "      async function convertToInteractive(key) {\n",
              "        const element = document.querySelector('#df-59c11f44-cd12-457b-9874-662f23631a19');\n",
              "        const dataTable =\n",
              "          await google.colab.kernel.invokeFunction('convertToInteractive',\n",
              "                                                    [key], {});\n",
              "        if (!dataTable) return;\n",
              "\n",
              "        const docLinkHtml = 'Like what you see? Visit the ' +\n",
              "          '<a target=\"_blank\" href=https://colab.research.google.com/notebooks/data_table.ipynb>data table notebook</a>'\n",
              "          + ' to learn more about interactive tables.';\n",
              "        element.innerHTML = '';\n",
              "        dataTable['output_type'] = 'display_data';\n",
              "        await google.colab.output.renderOutput(dataTable, element);\n",
              "        const docLink = document.createElement('div');\n",
              "        docLink.innerHTML = docLinkHtml;\n",
              "        element.appendChild(docLink);\n",
              "      }\n",
              "    </script>\n",
              "  </div>\n",
              "\n",
              "\n",
              "<div id=\"df-e9e34776-43c4-4efa-bdd9-408988456583\">\n",
              "  <button class=\"colab-df-quickchart\" onclick=\"quickchart('df-e9e34776-43c4-4efa-bdd9-408988456583')\"\n",
              "            title=\"Suggest charts\"\n",
              "            style=\"display:none;\">\n",
              "\n",
              "<svg xmlns=\"http://www.w3.org/2000/svg\" height=\"24px\"viewBox=\"0 0 24 24\"\n",
              "     width=\"24px\">\n",
              "    <g>\n",
              "        <path d=\"M19 3H5c-1.1 0-2 .9-2 2v14c0 1.1.9 2 2 2h14c1.1 0 2-.9 2-2V5c0-1.1-.9-2-2-2zM9 17H7v-7h2v7zm4 0h-2V7h2v10zm4 0h-2v-4h2v4z\"/>\n",
              "    </g>\n",
              "</svg>\n",
              "  </button>\n",
              "\n",
              "<style>\n",
              "  .colab-df-quickchart {\n",
              "      --bg-color: #E8F0FE;\n",
              "      --fill-color: #1967D2;\n",
              "      --hover-bg-color: #E2EBFA;\n",
              "      --hover-fill-color: #174EA6;\n",
              "      --disabled-fill-color: #AAA;\n",
              "      --disabled-bg-color: #DDD;\n",
              "  }\n",
              "\n",
              "  [theme=dark] .colab-df-quickchart {\n",
              "      --bg-color: #3B4455;\n",
              "      --fill-color: #D2E3FC;\n",
              "      --hover-bg-color: #434B5C;\n",
              "      --hover-fill-color: #FFFFFF;\n",
              "      --disabled-bg-color: #3B4455;\n",
              "      --disabled-fill-color: #666;\n",
              "  }\n",
              "\n",
              "  .colab-df-quickchart {\n",
              "    background-color: var(--bg-color);\n",
              "    border: none;\n",
              "    border-radius: 50%;\n",
              "    cursor: pointer;\n",
              "    display: none;\n",
              "    fill: var(--fill-color);\n",
              "    height: 32px;\n",
              "    padding: 0;\n",
              "    width: 32px;\n",
              "  }\n",
              "\n",
              "  .colab-df-quickchart:hover {\n",
              "    background-color: var(--hover-bg-color);\n",
              "    box-shadow: 0 1px 2px rgba(60, 64, 67, 0.3), 0 1px 3px 1px rgba(60, 64, 67, 0.15);\n",
              "    fill: var(--button-hover-fill-color);\n",
              "  }\n",
              "\n",
              "  .colab-df-quickchart-complete:disabled,\n",
              "  .colab-df-quickchart-complete:disabled:hover {\n",
              "    background-color: var(--disabled-bg-color);\n",
              "    fill: var(--disabled-fill-color);\n",
              "    box-shadow: none;\n",
              "  }\n",
              "\n",
              "  .colab-df-spinner {\n",
              "    border: 2px solid var(--fill-color);\n",
              "    border-color: transparent;\n",
              "    border-bottom-color: var(--fill-color);\n",
              "    animation:\n",
              "      spin 1s steps(1) infinite;\n",
              "  }\n",
              "\n",
              "  @keyframes spin {\n",
              "    0% {\n",
              "      border-color: transparent;\n",
              "      border-bottom-color: var(--fill-color);\n",
              "      border-left-color: var(--fill-color);\n",
              "    }\n",
              "    20% {\n",
              "      border-color: transparent;\n",
              "      border-left-color: var(--fill-color);\n",
              "      border-top-color: var(--fill-color);\n",
              "    }\n",
              "    30% {\n",
              "      border-color: transparent;\n",
              "      border-left-color: var(--fill-color);\n",
              "      border-top-color: var(--fill-color);\n",
              "      border-right-color: var(--fill-color);\n",
              "    }\n",
              "    40% {\n",
              "      border-color: transparent;\n",
              "      border-right-color: var(--fill-color);\n",
              "      border-top-color: var(--fill-color);\n",
              "    }\n",
              "    60% {\n",
              "      border-color: transparent;\n",
              "      border-right-color: var(--fill-color);\n",
              "    }\n",
              "    80% {\n",
              "      border-color: transparent;\n",
              "      border-right-color: var(--fill-color);\n",
              "      border-bottom-color: var(--fill-color);\n",
              "    }\n",
              "    90% {\n",
              "      border-color: transparent;\n",
              "      border-bottom-color: var(--fill-color);\n",
              "    }\n",
              "  }\n",
              "</style>\n",
              "\n",
              "  <script>\n",
              "    async function quickchart(key) {\n",
              "      const quickchartButtonEl =\n",
              "        document.querySelector('#' + key + ' button');\n",
              "      quickchartButtonEl.disabled = true;  // To prevent multiple clicks.\n",
              "      quickchartButtonEl.classList.add('colab-df-spinner');\n",
              "      try {\n",
              "        const charts = await google.colab.kernel.invokeFunction(\n",
              "            'suggestCharts', [key], {});\n",
              "      } catch (error) {\n",
              "        console.error('Error during call to suggestCharts:', error);\n",
              "      }\n",
              "      quickchartButtonEl.classList.remove('colab-df-spinner');\n",
              "      quickchartButtonEl.classList.add('colab-df-quickchart-complete');\n",
              "    }\n",
              "    (() => {\n",
              "      let quickchartButtonEl =\n",
              "        document.querySelector('#df-e9e34776-43c4-4efa-bdd9-408988456583 button');\n",
              "      quickchartButtonEl.style.display =\n",
              "        google.colab.kernel.accessAllowed ? 'block' : 'none';\n",
              "    })();\n",
              "  </script>\n",
              "</div>\n",
              "\n",
              "  <div id=\"id_83bc09c0-974c-4094-8910-357f0315c37e\">\n",
              "    <style>\n",
              "      .colab-df-generate {\n",
              "        background-color: #E8F0FE;\n",
              "        border: none;\n",
              "        border-radius: 50%;\n",
              "        cursor: pointer;\n",
              "        display: none;\n",
              "        fill: #1967D2;\n",
              "        height: 32px;\n",
              "        padding: 0 0 0 0;\n",
              "        width: 32px;\n",
              "      }\n",
              "\n",
              "      .colab-df-generate:hover {\n",
              "        background-color: #E2EBFA;\n",
              "        box-shadow: 0px 1px 2px rgba(60, 64, 67, 0.3), 0px 1px 3px 1px rgba(60, 64, 67, 0.15);\n",
              "        fill: #174EA6;\n",
              "      }\n",
              "\n",
              "      [theme=dark] .colab-df-generate {\n",
              "        background-color: #3B4455;\n",
              "        fill: #D2E3FC;\n",
              "      }\n",
              "\n",
              "      [theme=dark] .colab-df-generate:hover {\n",
              "        background-color: #434B5C;\n",
              "        box-shadow: 0px 1px 3px 1px rgba(0, 0, 0, 0.15);\n",
              "        filter: drop-shadow(0px 1px 2px rgba(0, 0, 0, 0.3));\n",
              "        fill: #FFFFFF;\n",
              "      }\n",
              "    </style>\n",
              "    <button class=\"colab-df-generate\" onclick=\"generateWithVariable('evaluation_df')\"\n",
              "            title=\"Generate code using this dataframe.\"\n",
              "            style=\"display:none;\">\n",
              "\n",
              "  <svg xmlns=\"http://www.w3.org/2000/svg\" height=\"24px\"viewBox=\"0 0 24 24\"\n",
              "       width=\"24px\">\n",
              "    <path d=\"M7,19H8.4L18.45,9,17,7.55,7,17.6ZM5,21V16.75L18.45,3.32a2,2,0,0,1,2.83,0l1.4,1.43a1.91,1.91,0,0,1,.58,1.4,1.91,1.91,0,0,1-.58,1.4L9.25,21ZM18.45,9,17,7.55Zm-12,3A5.31,5.31,0,0,0,4.9,8.1,5.31,5.31,0,0,0,1,6.5,5.31,5.31,0,0,0,4.9,4.9,5.31,5.31,0,0,0,6.5,1,5.31,5.31,0,0,0,8.1,4.9,5.31,5.31,0,0,0,12,6.5,5.46,5.46,0,0,0,6.5,12Z\"/>\n",
              "  </svg>\n",
              "    </button>\n",
              "    <script>\n",
              "      (() => {\n",
              "      const buttonEl =\n",
              "        document.querySelector('#id_83bc09c0-974c-4094-8910-357f0315c37e button.colab-df-generate');\n",
              "      buttonEl.style.display =\n",
              "        google.colab.kernel.accessAllowed ? 'block' : 'none';\n",
              "\n",
              "      buttonEl.onclick = () => {\n",
              "        google.colab.notebook.generateWithVariable('evaluation_df');\n",
              "      }\n",
              "      })();\n",
              "    </script>\n",
              "  </div>\n",
              "\n",
              "    </div>\n",
              "  </div>\n"
            ],
            "application/vnd.google.colaboratory.intrinsic+json": {
              "type": "dataframe",
              "variable_name": "evaluation_df",
              "summary": "{\n  \"name\": \"evaluation_df\",\n  \"rows\": 6,\n  \"fields\": [\n    {\n      \"column\": \"Model\",\n      \"properties\": {\n        \"dtype\": \"string\",\n        \"num_unique_values\": 6,\n        \"samples\": [\n          \"rfc\",\n          \"knn\",\n          \"w2v sg rfc\"\n        ],\n        \"semantic_type\": \"\",\n        \"description\": \"\"\n      }\n    },\n    {\n      \"column\": \"Accuracy\",\n      \"properties\": {\n        \"dtype\": \"number\",\n        \"std\": 0.037703525504368354,\n        \"min\": 0.9051889814221653,\n        \"max\": 0.9980781550288277,\n        \"num_unique_values\": 5,\n        \"samples\": [\n          0.9974375400384369,\n          0.9974391805377721,\n          0.9609224855861627\n        ],\n        \"semantic_type\": \"\",\n        \"description\": \"\"\n      }\n    },\n    {\n      \"column\": \"Confusion Matrix\",\n      \"properties\": {\n        \"dtype\": \"string\",\n        \"num_unique_values\": 5,\n        \"samples\": [\n          \"[[860   0   0]\\n [  1 423   1]\\n [  1   1 274]]\",\n          \"[[465   1   0]\\n [  0 196   1]\\n [  0   0 118]]\",\n          \"[[806  54   0]\\n [  4 421   0]\\n [  0   3 273]]\"\n        ],\n        \"semantic_type\": \"\",\n        \"description\": \"\"\n      }\n    }\n  ]\n}"
            }
          },
          "metadata": {},
          "execution_count": 64
        }
      ]
    },
    {
      "cell_type": "markdown",
      "source": [
        "# Train Models (adaptive)"
      ],
      "metadata": {
        "id": "rf2DRW2Qfm6w"
      }
    },
    {
      "cell_type": "markdown",
      "source": [
        "Adaptive Random Forest: Balanced Accuracy = 95.93%"
      ],
      "metadata": {
        "id": "eH3oOTYdewAD"
      }
    },
    {
      "cell_type": "code",
      "source": [
        "arfc = forest.ARFClassifier(seed=8, leaf_prediction=\"mc\")\n",
        "st = stream.iter_pandas(df.drop('label', axis = 1), df['label'])\n",
        "evaluate.progressive_val_score(st, arfc, metric = metrics.BalancedAccuracy(), print_every = 1000, delay = 1)"
      ],
      "metadata": {
        "colab": {
          "base_uri": "https://localhost:8080/"
        },
        "id": "P02IORJYfo5Q",
        "outputId": "0fa9e690-e5da-4a7a-8350-f4e80c3dd263"
      },
      "execution_count": null,
      "outputs": [
        {
          "output_type": "stream",
          "name": "stdout",
          "text": [
            "[1,000] BalancedAccuracy: 83.62%\n",
            "[2,000] BalancedAccuracy: 88.29%\n",
            "[3,000] BalancedAccuracy: 91.54%\n",
            "[4,000] BalancedAccuracy: 93.10%\n",
            "[5,000] BalancedAccuracy: 94.15%\n",
            "[6,000] BalancedAccuracy: 94.95%\n",
            "[7,000] BalancedAccuracy: 95.46%\n",
            "[7,801] BalancedAccuracy: 95.83%\n"
          ]
        },
        {
          "output_type": "execute_result",
          "data": {
            "text/plain": [
              "BalancedAccuracy: 95.83%"
            ]
          },
          "metadata": {},
          "execution_count": 7
        }
      ]
    },
    {
      "cell_type": "markdown",
      "source": [
        "Adaptive KNN Classifier: Balanced Accuracy = 90.08%"
      ],
      "metadata": {
        "id": "ZNEqtMSke0Hj"
      }
    },
    {
      "cell_type": "code",
      "source": [
        "knnadwin = neighbors.KNNClassifier()\n",
        "st = stream.iter_pandas(df.drop('label', axis = 1), df['label'])\n",
        "evaluate.progressive_val_score(st, knnadwin, metric = metrics.BalancedAccuracy(), print_every = 1000, delay = 1)"
      ],
      "metadata": {
        "colab": {
          "base_uri": "https://localhost:8080/"
        },
        "id": "daUCH8cnf95-",
        "outputId": "361114bf-cd19-4010-e9f3-144c8164f50c"
      },
      "execution_count": null,
      "outputs": [
        {
          "output_type": "stream",
          "name": "stdout",
          "text": [
            "[1,000] BalancedAccuracy: 96.40%\n",
            "[2,000] BalancedAccuracy: 93.19%\n",
            "[3,000] BalancedAccuracy: 91.77%\n",
            "[4,000] BalancedAccuracy: 91.36%\n",
            "[5,000] BalancedAccuracy: 91.02%\n",
            "[6,000] BalancedAccuracy: 90.81%\n",
            "[7,000] BalancedAccuracy: 90.17%\n",
            "[7,801] BalancedAccuracy: 90.08%\n"
          ]
        },
        {
          "output_type": "execute_result",
          "data": {
            "text/plain": [
              "BalancedAccuracy: 90.08%"
            ]
          },
          "metadata": {},
          "execution_count": 10
        }
      ]
    },
    {
      "cell_type": "code",
      "source": [
        "# online boosting classifier\n",
        "ob = ensemble.AdaBoostClassifier(tree.HoeffdingTreeClassifier())\n",
        "st = stream.iter_pandas(df.drop('label', axis = 1), df['label'])\n",
        "evaluate.progressive_val_score(st, ob, metric = metrics.BalancedAccuracy(), print_every = 500)"
      ],
      "metadata": {
        "id": "oduxHwqMgDU5",
        "colab": {
          "base_uri": "https://localhost:8080/"
        },
        "outputId": "b1e03393-c29d-4990-c518-711a0e9b4c80"
      },
      "execution_count": null,
      "outputs": [
        {
          "output_type": "stream",
          "name": "stdout",
          "text": [
            "[500] BalancedAccuracy: 87.98%\n",
            "[1,000] BalancedAccuracy: 85.95%\n",
            "[1,500] BalancedAccuracy: 85.07%\n",
            "[2,000] BalancedAccuracy: 84.56%\n",
            "[2,500] BalancedAccuracy: 84.31%\n",
            "[3,000] BalancedAccuracy: 83.14%\n",
            "[3,500] BalancedAccuracy: 81.83%\n",
            "[4,000] BalancedAccuracy: 81.08%\n",
            "[4,500] BalancedAccuracy: 80.80%\n",
            "[5,000] BalancedAccuracy: 81.27%\n",
            "[5,500] BalancedAccuracy: 81.48%\n",
            "[6,000] BalancedAccuracy: 81.53%\n",
            "[6,500] BalancedAccuracy: 81.62%\n",
            "[7,000] BalancedAccuracy: 82.24%\n",
            "[7,500] BalancedAccuracy: 82.78%\n",
            "[7,801] BalancedAccuracy: 83.36%\n"
          ]
        },
        {
          "output_type": "execute_result",
          "data": {
            "text/plain": [
              "BalancedAccuracy: 83.36%"
            ]
          },
          "metadata": {},
          "execution_count": 13
        }
      ]
    },
    {
      "cell_type": "code",
      "source": [
        "ob2 = ensemble.ADWINBoostingClassifier(tree.HoeffdingTreeClassifier())\n",
        "st = stream.iter_pandas(df.drop('label', axis = 1), df['label'])\n",
        "evaluate.progressive_val_score(st, ob2, metric = metrics.BalancedAccuracy(), print_every = 500)"
      ],
      "metadata": {
        "colab": {
          "base_uri": "https://localhost:8080/"
        },
        "id": "CGUKS500sZb7",
        "outputId": "306f00a8-8a64-4ba1-be36-37dad79295d6"
      },
      "execution_count": null,
      "outputs": [
        {
          "output_type": "stream",
          "name": "stdout",
          "text": [
            "[500] BalancedAccuracy: 87.41%\n",
            "[1,000] BalancedAccuracy: 85.94%\n",
            "[1,500] BalancedAccuracy: 85.17%\n",
            "[2,000] BalancedAccuracy: 85.02%\n",
            "[2,500] BalancedAccuracy: 84.80%\n",
            "[3,000] BalancedAccuracy: 84.51%\n",
            "[3,500] BalancedAccuracy: 84.15%\n",
            "[4,000] BalancedAccuracy: 83.78%\n",
            "[4,500] BalancedAccuracy: 84.08%\n",
            "[5,000] BalancedAccuracy: 84.05%\n",
            "[5,500] BalancedAccuracy: 84.25%\n",
            "[6,000] BalancedAccuracy: 84.14%\n",
            "[6,500] BalancedAccuracy: 84.13%\n",
            "[7,000] BalancedAccuracy: 84.20%\n",
            "[7,500] BalancedAccuracy: 83.97%\n",
            "[7,801] BalancedAccuracy: 83.85%\n"
          ]
        },
        {
          "output_type": "execute_result",
          "data": {
            "text/plain": [
              "BalancedAccuracy: 83.85%"
            ]
          },
          "metadata": {},
          "execution_count": 14
        }
      ]
    },
    {
      "cell_type": "markdown",
      "source": [
        "# Evaluate (+ adaptive)"
      ],
      "metadata": {
        "id": "pW95Dz8nj_5q"
      }
    },
    {
      "cell_type": "code",
      "source": [
        "evaluation_df.loc[int(len(evaluation_df.index))] = ['adaptive rfc', .9583, '']\n",
        "evaluation_df.loc[int(len(evaluation_df.index))] = ['adaptive knn', .9008, '']\n",
        "evaluation_df.loc[int(len(evaluation_df.index))] = ['online boosting', .8385, '']"
      ],
      "metadata": {
        "id": "iB8mPmo4gv0o"
      },
      "execution_count": null,
      "outputs": []
    },
    {
      "cell_type": "markdown",
      "source": [
        "# Final Evaluations"
      ],
      "metadata": {
        "id": "-vPPw0-sgm1a"
      }
    },
    {
      "cell_type": "code",
      "source": [
        "evaluation_df.sort_values(by = 'Accuracy', ascending = True, inplace = True)\n",
        "fig = px.bar(evaluation_df, x = 'Model', y = 'Accuracy', color = 'Model')\n",
        "fig.show()"
      ],
      "metadata": {
        "colab": {
          "base_uri": "https://localhost:8080/"
        },
        "id": "OdIxGquQgl8w",
        "outputId": "6ba0549c-97aa-4e29-aa1b-1e247e690705"
      },
      "execution_count": null,
      "outputs": [
        {
          "output_type": "display_data",
          "data": {
            "text/html": [
              "<html>\n",
              "<head><meta charset=\"utf-8\" /></head>\n",
              "<body>\n",
              "    <div>            <script src=\"https://cdnjs.cloudflare.com/ajax/libs/mathjax/2.7.5/MathJax.js?config=TeX-AMS-MML_SVG\"></script><script type=\"text/javascript\">if (window.MathJax && window.MathJax.Hub && window.MathJax.Hub.Config) {window.MathJax.Hub.Config({SVG: {font: \"STIX-Web\"}});}</script>                <script type=\"text/javascript\">window.PlotlyConfig = {MathJaxConfig: 'local'};</script>\n",
              "        <script charset=\"utf-8\" src=\"https://cdn.plot.ly/plotly-2.24.1.min.js\"></script>                <div id=\"9a37530f-1242-4b52-904a-9c43d0a398ea\" class=\"plotly-graph-div\" style=\"height:525px; width:100%;\"></div>            <script type=\"text/javascript\">                                    window.PLOTLYENV=window.PLOTLYENV || {};                                    if (document.getElementById(\"9a37530f-1242-4b52-904a-9c43d0a398ea\")) {                    Plotly.newPlot(                        \"9a37530f-1242-4b52-904a-9c43d0a398ea\",                        [{\"alignmentgroup\":\"True\",\"hovertemplate\":\"Model=%{x}\\u003cbr\\u003eAccuracy=%{y}\\u003cextra\\u003e\\u003c\\u002fextra\\u003e\",\"legendgroup\":\"online boosting\",\"marker\":{\"color\":\"#636efa\",\"pattern\":{\"shape\":\"\"}},\"name\":\"online boosting\",\"offsetgroup\":\"online boosting\",\"orientation\":\"v\",\"showlegend\":true,\"textposition\":\"auto\",\"x\":[\"online boosting\"],\"xaxis\":\"x\",\"y\":[0.8385],\"yaxis\":\"y\",\"type\":\"bar\"},{\"alignmentgroup\":\"True\",\"hovertemplate\":\"Model=%{x}\\u003cbr\\u003eAccuracy=%{y}\\u003cextra\\u003e\\u003c\\u002fextra\\u003e\",\"legendgroup\":\"adaptive knn\",\"marker\":{\"color\":\"#EF553B\",\"pattern\":{\"shape\":\"\"}},\"name\":\"adaptive knn\",\"offsetgroup\":\"adaptive knn\",\"orientation\":\"v\",\"showlegend\":true,\"textposition\":\"auto\",\"x\":[\"adaptive knn\"],\"xaxis\":\"x\",\"y\":[0.9008],\"yaxis\":\"y\",\"type\":\"bar\"},{\"alignmentgroup\":\"True\",\"hovertemplate\":\"Model=%{x}\\u003cbr\\u003eAccuracy=%{y}\\u003cextra\\u003e\\u003c\\u002fextra\\u003e\",\"legendgroup\":\"svm\",\"marker\":{\"color\":\"#00cc96\",\"pattern\":{\"shape\":\"\"}},\"name\":\"svm\",\"offsetgroup\":\"svm\",\"orientation\":\"v\",\"showlegend\":true,\"textposition\":\"auto\",\"x\":[\"svm\"],\"xaxis\":\"x\",\"y\":[0.9051889814221653],\"yaxis\":\"y\",\"type\":\"bar\"},{\"alignmentgroup\":\"True\",\"hovertemplate\":\"Model=%{x}\\u003cbr\\u003eAccuracy=%{y}\\u003cextra\\u003e\\u003c\\u002fextra\\u003e\",\"legendgroup\":\"adaptive rfc\",\"marker\":{\"color\":\"#ab63fa\",\"pattern\":{\"shape\":\"\"}},\"name\":\"adaptive rfc\",\"offsetgroup\":\"adaptive rfc\",\"orientation\":\"v\",\"showlegend\":true,\"textposition\":\"auto\",\"x\":[\"adaptive rfc\"],\"xaxis\":\"x\",\"y\":[0.9583],\"yaxis\":\"y\",\"type\":\"bar\"},{\"alignmentgroup\":\"True\",\"hovertemplate\":\"Model=%{x}\\u003cbr\\u003eAccuracy=%{y}\\u003cextra\\u003e\\u003c\\u002fextra\\u003e\",\"legendgroup\":\"ada\",\"marker\":{\"color\":\"#FFA15A\",\"pattern\":{\"shape\":\"\"}},\"name\":\"ada\",\"offsetgroup\":\"ada\",\"orientation\":\"v\",\"showlegend\":true,\"textposition\":\"auto\",\"x\":[\"ada\"],\"xaxis\":\"x\",\"y\":[0.9609224855861627],\"yaxis\":\"y\",\"type\":\"bar\"},{\"alignmentgroup\":\"True\",\"hovertemplate\":\"Model=%{x}\\u003cbr\\u003eAccuracy=%{y}\\u003cextra\\u003e\\u003c\\u002fextra\\u003e\",\"legendgroup\":\"knn\",\"marker\":{\"color\":\"#19d3f3\",\"pattern\":{\"shape\":\"\"}},\"name\":\"knn\",\"offsetgroup\":\"knn\",\"orientation\":\"v\",\"showlegend\":true,\"textposition\":\"auto\",\"x\":[\"knn\"],\"xaxis\":\"x\",\"y\":[0.9974375400384369],\"yaxis\":\"y\",\"type\":\"bar\"},{\"alignmentgroup\":\"True\",\"hovertemplate\":\"Model=%{x}\\u003cbr\\u003eAccuracy=%{y}\\u003cextra\\u003e\\u003c\\u002fextra\\u003e\",\"legendgroup\":\"w2v rfc\",\"marker\":{\"color\":\"#FF6692\",\"pattern\":{\"shape\":\"\"}},\"name\":\"w2v rfc\",\"offsetgroup\":\"w2v rfc\",\"orientation\":\"v\",\"showlegend\":true,\"textposition\":\"auto\",\"x\":[\"w2v rfc\"],\"xaxis\":\"x\",\"y\":[0.9974391805377721],\"yaxis\":\"y\",\"type\":\"bar\"},{\"alignmentgroup\":\"True\",\"hovertemplate\":\"Model=%{x}\\u003cbr\\u003eAccuracy=%{y}\\u003cextra\\u003e\\u003c\\u002fextra\\u003e\",\"legendgroup\":\"w2v sg rfc\",\"marker\":{\"color\":\"#B6E880\",\"pattern\":{\"shape\":\"\"}},\"name\":\"w2v sg rfc\",\"offsetgroup\":\"w2v sg rfc\",\"orientation\":\"v\",\"showlegend\":true,\"textposition\":\"auto\",\"x\":[\"w2v sg rfc\"],\"xaxis\":\"x\",\"y\":[0.9974391805377721],\"yaxis\":\"y\",\"type\":\"bar\"},{\"alignmentgroup\":\"True\",\"hovertemplate\":\"Model=%{x}\\u003cbr\\u003eAccuracy=%{y}\\u003cextra\\u003e\\u003c\\u002fextra\\u003e\",\"legendgroup\":\"rfc\",\"marker\":{\"color\":\"#FF97FF\",\"pattern\":{\"shape\":\"\"}},\"name\":\"rfc\",\"offsetgroup\":\"rfc\",\"orientation\":\"v\",\"showlegend\":true,\"textposition\":\"auto\",\"x\":[\"rfc\"],\"xaxis\":\"x\",\"y\":[0.9980781550288277],\"yaxis\":\"y\",\"type\":\"bar\"}],                        {\"template\":{\"data\":{\"histogram2dcontour\":[{\"type\":\"histogram2dcontour\",\"colorbar\":{\"outlinewidth\":0,\"ticks\":\"\"},\"colorscale\":[[0.0,\"#0d0887\"],[0.1111111111111111,\"#46039f\"],[0.2222222222222222,\"#7201a8\"],[0.3333333333333333,\"#9c179e\"],[0.4444444444444444,\"#bd3786\"],[0.5555555555555556,\"#d8576b\"],[0.6666666666666666,\"#ed7953\"],[0.7777777777777778,\"#fb9f3a\"],[0.8888888888888888,\"#fdca26\"],[1.0,\"#f0f921\"]]}],\"choropleth\":[{\"type\":\"choropleth\",\"colorbar\":{\"outlinewidth\":0,\"ticks\":\"\"}}],\"histogram2d\":[{\"type\":\"histogram2d\",\"colorbar\":{\"outlinewidth\":0,\"ticks\":\"\"},\"colorscale\":[[0.0,\"#0d0887\"],[0.1111111111111111,\"#46039f\"],[0.2222222222222222,\"#7201a8\"],[0.3333333333333333,\"#9c179e\"],[0.4444444444444444,\"#bd3786\"],[0.5555555555555556,\"#d8576b\"],[0.6666666666666666,\"#ed7953\"],[0.7777777777777778,\"#fb9f3a\"],[0.8888888888888888,\"#fdca26\"],[1.0,\"#f0f921\"]]}],\"heatmap\":[{\"type\":\"heatmap\",\"colorbar\":{\"outlinewidth\":0,\"ticks\":\"\"},\"colorscale\":[[0.0,\"#0d0887\"],[0.1111111111111111,\"#46039f\"],[0.2222222222222222,\"#7201a8\"],[0.3333333333333333,\"#9c179e\"],[0.4444444444444444,\"#bd3786\"],[0.5555555555555556,\"#d8576b\"],[0.6666666666666666,\"#ed7953\"],[0.7777777777777778,\"#fb9f3a\"],[0.8888888888888888,\"#fdca26\"],[1.0,\"#f0f921\"]]}],\"heatmapgl\":[{\"type\":\"heatmapgl\",\"colorbar\":{\"outlinewidth\":0,\"ticks\":\"\"},\"colorscale\":[[0.0,\"#0d0887\"],[0.1111111111111111,\"#46039f\"],[0.2222222222222222,\"#7201a8\"],[0.3333333333333333,\"#9c179e\"],[0.4444444444444444,\"#bd3786\"],[0.5555555555555556,\"#d8576b\"],[0.6666666666666666,\"#ed7953\"],[0.7777777777777778,\"#fb9f3a\"],[0.8888888888888888,\"#fdca26\"],[1.0,\"#f0f921\"]]}],\"contourcarpet\":[{\"type\":\"contourcarpet\",\"colorbar\":{\"outlinewidth\":0,\"ticks\":\"\"}}],\"contour\":[{\"type\":\"contour\",\"colorbar\":{\"outlinewidth\":0,\"ticks\":\"\"},\"colorscale\":[[0.0,\"#0d0887\"],[0.1111111111111111,\"#46039f\"],[0.2222222222222222,\"#7201a8\"],[0.3333333333333333,\"#9c179e\"],[0.4444444444444444,\"#bd3786\"],[0.5555555555555556,\"#d8576b\"],[0.6666666666666666,\"#ed7953\"],[0.7777777777777778,\"#fb9f3a\"],[0.8888888888888888,\"#fdca26\"],[1.0,\"#f0f921\"]]}],\"surface\":[{\"type\":\"surface\",\"colorbar\":{\"outlinewidth\":0,\"ticks\":\"\"},\"colorscale\":[[0.0,\"#0d0887\"],[0.1111111111111111,\"#46039f\"],[0.2222222222222222,\"#7201a8\"],[0.3333333333333333,\"#9c179e\"],[0.4444444444444444,\"#bd3786\"],[0.5555555555555556,\"#d8576b\"],[0.6666666666666666,\"#ed7953\"],[0.7777777777777778,\"#fb9f3a\"],[0.8888888888888888,\"#fdca26\"],[1.0,\"#f0f921\"]]}],\"mesh3d\":[{\"type\":\"mesh3d\",\"colorbar\":{\"outlinewidth\":0,\"ticks\":\"\"}}],\"scatter\":[{\"fillpattern\":{\"fillmode\":\"overlay\",\"size\":10,\"solidity\":0.2},\"type\":\"scatter\"}],\"parcoords\":[{\"type\":\"parcoords\",\"line\":{\"colorbar\":{\"outlinewidth\":0,\"ticks\":\"\"}}}],\"scatterpolargl\":[{\"type\":\"scatterpolargl\",\"marker\":{\"colorbar\":{\"outlinewidth\":0,\"ticks\":\"\"}}}],\"bar\":[{\"error_x\":{\"color\":\"#2a3f5f\"},\"error_y\":{\"color\":\"#2a3f5f\"},\"marker\":{\"line\":{\"color\":\"#E5ECF6\",\"width\":0.5},\"pattern\":{\"fillmode\":\"overlay\",\"size\":10,\"solidity\":0.2}},\"type\":\"bar\"}],\"scattergeo\":[{\"type\":\"scattergeo\",\"marker\":{\"colorbar\":{\"outlinewidth\":0,\"ticks\":\"\"}}}],\"scatterpolar\":[{\"type\":\"scatterpolar\",\"marker\":{\"colorbar\":{\"outlinewidth\":0,\"ticks\":\"\"}}}],\"histogram\":[{\"marker\":{\"pattern\":{\"fillmode\":\"overlay\",\"size\":10,\"solidity\":0.2}},\"type\":\"histogram\"}],\"scattergl\":[{\"type\":\"scattergl\",\"marker\":{\"colorbar\":{\"outlinewidth\":0,\"ticks\":\"\"}}}],\"scatter3d\":[{\"type\":\"scatter3d\",\"line\":{\"colorbar\":{\"outlinewidth\":0,\"ticks\":\"\"}},\"marker\":{\"colorbar\":{\"outlinewidth\":0,\"ticks\":\"\"}}}],\"scattermapbox\":[{\"type\":\"scattermapbox\",\"marker\":{\"colorbar\":{\"outlinewidth\":0,\"ticks\":\"\"}}}],\"scatterternary\":[{\"type\":\"scatterternary\",\"marker\":{\"colorbar\":{\"outlinewidth\":0,\"ticks\":\"\"}}}],\"scattercarpet\":[{\"type\":\"scattercarpet\",\"marker\":{\"colorbar\":{\"outlinewidth\":0,\"ticks\":\"\"}}}],\"carpet\":[{\"aaxis\":{\"endlinecolor\":\"#2a3f5f\",\"gridcolor\":\"white\",\"linecolor\":\"white\",\"minorgridcolor\":\"white\",\"startlinecolor\":\"#2a3f5f\"},\"baxis\":{\"endlinecolor\":\"#2a3f5f\",\"gridcolor\":\"white\",\"linecolor\":\"white\",\"minorgridcolor\":\"white\",\"startlinecolor\":\"#2a3f5f\"},\"type\":\"carpet\"}],\"table\":[{\"cells\":{\"fill\":{\"color\":\"#EBF0F8\"},\"line\":{\"color\":\"white\"}},\"header\":{\"fill\":{\"color\":\"#C8D4E3\"},\"line\":{\"color\":\"white\"}},\"type\":\"table\"}],\"barpolar\":[{\"marker\":{\"line\":{\"color\":\"#E5ECF6\",\"width\":0.5},\"pattern\":{\"fillmode\":\"overlay\",\"size\":10,\"solidity\":0.2}},\"type\":\"barpolar\"}],\"pie\":[{\"automargin\":true,\"type\":\"pie\"}]},\"layout\":{\"autotypenumbers\":\"strict\",\"colorway\":[\"#636efa\",\"#EF553B\",\"#00cc96\",\"#ab63fa\",\"#FFA15A\",\"#19d3f3\",\"#FF6692\",\"#B6E880\",\"#FF97FF\",\"#FECB52\"],\"font\":{\"color\":\"#2a3f5f\"},\"hovermode\":\"closest\",\"hoverlabel\":{\"align\":\"left\"},\"paper_bgcolor\":\"white\",\"plot_bgcolor\":\"#E5ECF6\",\"polar\":{\"bgcolor\":\"#E5ECF6\",\"angularaxis\":{\"gridcolor\":\"white\",\"linecolor\":\"white\",\"ticks\":\"\"},\"radialaxis\":{\"gridcolor\":\"white\",\"linecolor\":\"white\",\"ticks\":\"\"}},\"ternary\":{\"bgcolor\":\"#E5ECF6\",\"aaxis\":{\"gridcolor\":\"white\",\"linecolor\":\"white\",\"ticks\":\"\"},\"baxis\":{\"gridcolor\":\"white\",\"linecolor\":\"white\",\"ticks\":\"\"},\"caxis\":{\"gridcolor\":\"white\",\"linecolor\":\"white\",\"ticks\":\"\"}},\"coloraxis\":{\"colorbar\":{\"outlinewidth\":0,\"ticks\":\"\"}},\"colorscale\":{\"sequential\":[[0.0,\"#0d0887\"],[0.1111111111111111,\"#46039f\"],[0.2222222222222222,\"#7201a8\"],[0.3333333333333333,\"#9c179e\"],[0.4444444444444444,\"#bd3786\"],[0.5555555555555556,\"#d8576b\"],[0.6666666666666666,\"#ed7953\"],[0.7777777777777778,\"#fb9f3a\"],[0.8888888888888888,\"#fdca26\"],[1.0,\"#f0f921\"]],\"sequentialminus\":[[0.0,\"#0d0887\"],[0.1111111111111111,\"#46039f\"],[0.2222222222222222,\"#7201a8\"],[0.3333333333333333,\"#9c179e\"],[0.4444444444444444,\"#bd3786\"],[0.5555555555555556,\"#d8576b\"],[0.6666666666666666,\"#ed7953\"],[0.7777777777777778,\"#fb9f3a\"],[0.8888888888888888,\"#fdca26\"],[1.0,\"#f0f921\"]],\"diverging\":[[0,\"#8e0152\"],[0.1,\"#c51b7d\"],[0.2,\"#de77ae\"],[0.3,\"#f1b6da\"],[0.4,\"#fde0ef\"],[0.5,\"#f7f7f7\"],[0.6,\"#e6f5d0\"],[0.7,\"#b8e186\"],[0.8,\"#7fbc41\"],[0.9,\"#4d9221\"],[1,\"#276419\"]]},\"xaxis\":{\"gridcolor\":\"white\",\"linecolor\":\"white\",\"ticks\":\"\",\"title\":{\"standoff\":15},\"zerolinecolor\":\"white\",\"automargin\":true,\"zerolinewidth\":2},\"yaxis\":{\"gridcolor\":\"white\",\"linecolor\":\"white\",\"ticks\":\"\",\"title\":{\"standoff\":15},\"zerolinecolor\":\"white\",\"automargin\":true,\"zerolinewidth\":2},\"scene\":{\"xaxis\":{\"backgroundcolor\":\"#E5ECF6\",\"gridcolor\":\"white\",\"linecolor\":\"white\",\"showbackground\":true,\"ticks\":\"\",\"zerolinecolor\":\"white\",\"gridwidth\":2},\"yaxis\":{\"backgroundcolor\":\"#E5ECF6\",\"gridcolor\":\"white\",\"linecolor\":\"white\",\"showbackground\":true,\"ticks\":\"\",\"zerolinecolor\":\"white\",\"gridwidth\":2},\"zaxis\":{\"backgroundcolor\":\"#E5ECF6\",\"gridcolor\":\"white\",\"linecolor\":\"white\",\"showbackground\":true,\"ticks\":\"\",\"zerolinecolor\":\"white\",\"gridwidth\":2}},\"shapedefaults\":{\"line\":{\"color\":\"#2a3f5f\"}},\"annotationdefaults\":{\"arrowcolor\":\"#2a3f5f\",\"arrowhead\":0,\"arrowwidth\":1},\"geo\":{\"bgcolor\":\"white\",\"landcolor\":\"#E5ECF6\",\"subunitcolor\":\"white\",\"showland\":true,\"showlakes\":true,\"lakecolor\":\"white\"},\"title\":{\"x\":0.05},\"mapbox\":{\"style\":\"light\"}}},\"xaxis\":{\"anchor\":\"y\",\"domain\":[0.0,1.0],\"title\":{\"text\":\"Model\"},\"categoryorder\":\"array\",\"categoryarray\":[\"online boosting\",\"adaptive knn\",\"svm\",\"adaptive rfc\",\"ada\",\"knn\",\"w2v rfc\",\"w2v sg rfc\",\"rfc\"]},\"yaxis\":{\"anchor\":\"x\",\"domain\":[0.0,1.0],\"title\":{\"text\":\"Accuracy\"}},\"legend\":{\"title\":{\"text\":\"Model\"},\"tracegroupgap\":0},\"margin\":{\"t\":60},\"barmode\":\"relative\"},                        {\"responsive\": true}                    ).then(function(){\n",
              "                            \n",
              "var gd = document.getElementById('9a37530f-1242-4b52-904a-9c43d0a398ea');\n",
              "var x = new MutationObserver(function (mutations, observer) {{\n",
              "        var display = window.getComputedStyle(gd).display;\n",
              "        if (!display || display === 'none') {{\n",
              "            console.log([gd, 'removed!']);\n",
              "            Plotly.purge(gd);\n",
              "            observer.disconnect();\n",
              "        }}\n",
              "}});\n",
              "\n",
              "// Listen for the removal of the full notebook cells\n",
              "var notebookContainer = gd.closest('#notebook-container');\n",
              "if (notebookContainer) {{\n",
              "    x.observe(notebookContainer, {childList: true});\n",
              "}}\n",
              "\n",
              "// Listen for the clearing of the current output cell\n",
              "var outputEl = gd.closest('.output');\n",
              "if (outputEl) {{\n",
              "    x.observe(outputEl, {childList: true});\n",
              "}}\n",
              "\n",
              "                        })                };                            </script>        </div>\n",
              "</body>\n",
              "</html>"
            ]
          },
          "metadata": {}
        }
      ]
    }
  ]
}