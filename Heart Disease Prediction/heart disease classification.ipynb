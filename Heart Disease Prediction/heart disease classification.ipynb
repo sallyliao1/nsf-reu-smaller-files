{
 "cells": [
  {
   "cell_type": "code",
   "execution_count": 89,
   "metadata": {},
   "outputs": [],
   "source": [
    "import pandas as pd\n",
    "import numpy as np\n",
    "import seaborn as sns\n",
    "from sklearn.model_selection import train_test_split\n",
    "from sklearn.ensemble import RandomForestClassifier\n",
    "import sklearn.metrics as skm\n",
    "from sklearn.tree import export_graphviz\n"
   ]
  },
  {
   "cell_type": "markdown",
   "metadata": {},
   "source": [
    "## import dataset + preprocess"
   ]
  },
  {
   "cell_type": "code",
   "execution_count": 90,
   "metadata": {},
   "outputs": [],
   "source": [
    "df = pd.read_csv(\"S1Data.csv\")\n",
    "## from article of data set, Event = death event"
   ]
  },
  {
   "cell_type": "code",
   "execution_count": 91,
   "metadata": {},
   "outputs": [],
   "source": [
    "df.dropna(inplace = True)\n",
    "df.drop_duplicates(inplace = True)"
   ]
  },
  {
   "cell_type": "code",
   "execution_count": 92,
   "metadata": {},
   "outputs": [
    {
     "data": {
      "text/html": [
       "<div>\n",
       "<style scoped>\n",
       "    .dataframe tbody tr th:only-of-type {\n",
       "        vertical-align: middle;\n",
       "    }\n",
       "\n",
       "    .dataframe tbody tr th {\n",
       "        vertical-align: top;\n",
       "    }\n",
       "\n",
       "    .dataframe thead th {\n",
       "        text-align: right;\n",
       "    }\n",
       "</style>\n",
       "<table border=\"1\" class=\"dataframe\">\n",
       "  <thead>\n",
       "    <tr style=\"text-align: right;\">\n",
       "      <th></th>\n",
       "      <th>TIME</th>\n",
       "      <th>Event</th>\n",
       "      <th>Gender</th>\n",
       "      <th>Smoking</th>\n",
       "      <th>Diabetes</th>\n",
       "      <th>BP</th>\n",
       "      <th>Anaemia</th>\n",
       "      <th>Age</th>\n",
       "      <th>Ejection.Fraction</th>\n",
       "      <th>Sodium</th>\n",
       "      <th>Creatinine</th>\n",
       "      <th>Pletelets</th>\n",
       "      <th>CPK</th>\n",
       "    </tr>\n",
       "  </thead>\n",
       "  <tbody>\n",
       "    <tr>\n",
       "      <th>0</th>\n",
       "      <td>97</td>\n",
       "      <td>0</td>\n",
       "      <td>0</td>\n",
       "      <td>0</td>\n",
       "      <td>0</td>\n",
       "      <td>0</td>\n",
       "      <td>1</td>\n",
       "      <td>43.0</td>\n",
       "      <td>50</td>\n",
       "      <td>135</td>\n",
       "      <td>1.30</td>\n",
       "      <td>237000.00</td>\n",
       "      <td>358</td>\n",
       "    </tr>\n",
       "    <tr>\n",
       "      <th>1</th>\n",
       "      <td>180</td>\n",
       "      <td>0</td>\n",
       "      <td>1</td>\n",
       "      <td>1</td>\n",
       "      <td>1</td>\n",
       "      <td>0</td>\n",
       "      <td>1</td>\n",
       "      <td>73.0</td>\n",
       "      <td>30</td>\n",
       "      <td>142</td>\n",
       "      <td>1.18</td>\n",
       "      <td>160000.00</td>\n",
       "      <td>231</td>\n",
       "    </tr>\n",
       "    <tr>\n",
       "      <th>2</th>\n",
       "      <td>31</td>\n",
       "      <td>1</td>\n",
       "      <td>1</td>\n",
       "      <td>1</td>\n",
       "      <td>0</td>\n",
       "      <td>1</td>\n",
       "      <td>0</td>\n",
       "      <td>70.0</td>\n",
       "      <td>20</td>\n",
       "      <td>134</td>\n",
       "      <td>1.83</td>\n",
       "      <td>263358.03</td>\n",
       "      <td>582</td>\n",
       "    </tr>\n",
       "    <tr>\n",
       "      <th>3</th>\n",
       "      <td>87</td>\n",
       "      <td>0</td>\n",
       "      <td>1</td>\n",
       "      <td>0</td>\n",
       "      <td>0</td>\n",
       "      <td>0</td>\n",
       "      <td>1</td>\n",
       "      <td>65.0</td>\n",
       "      <td>25</td>\n",
       "      <td>141</td>\n",
       "      <td>1.10</td>\n",
       "      <td>298000.00</td>\n",
       "      <td>305</td>\n",
       "    </tr>\n",
       "    <tr>\n",
       "      <th>4</th>\n",
       "      <td>113</td>\n",
       "      <td>0</td>\n",
       "      <td>1</td>\n",
       "      <td>0</td>\n",
       "      <td>0</td>\n",
       "      <td>0</td>\n",
       "      <td>0</td>\n",
       "      <td>64.0</td>\n",
       "      <td>60</td>\n",
       "      <td>137</td>\n",
       "      <td>1.00</td>\n",
       "      <td>242000.00</td>\n",
       "      <td>1610</td>\n",
       "    </tr>\n",
       "  </tbody>\n",
       "</table>\n",
       "</div>"
      ],
      "text/plain": [
       "   TIME  Event  Gender  Smoking  Diabetes  BP  Anaemia   Age  \\\n",
       "0    97      0       0        0         0   0        1  43.0   \n",
       "1   180      0       1        1         1   0        1  73.0   \n",
       "2    31      1       1        1         0   1        0  70.0   \n",
       "3    87      0       1        0         0   0        1  65.0   \n",
       "4   113      0       1        0         0   0        0  64.0   \n",
       "\n",
       "   Ejection.Fraction  Sodium  Creatinine  Pletelets   CPK  \n",
       "0                 50     135        1.30  237000.00   358  \n",
       "1                 30     142        1.18  160000.00   231  \n",
       "2                 20     134        1.83  263358.03   582  \n",
       "3                 25     141        1.10  298000.00   305  \n",
       "4                 60     137        1.00  242000.00  1610  "
      ]
     },
     "execution_count": 92,
     "metadata": {},
     "output_type": "execute_result"
    }
   ],
   "source": [
    "df.head()\n",
    "#df.info()"
   ]
  },
  {
   "cell_type": "code",
   "execution_count": 99,
   "metadata": {},
   "outputs": [],
   "source": [
    "# normalize all variables besides event\n",
    "continuous_cols = ['TIME', 'Age', 'Ejection.Fraction', 'Sodium', 'Creatinine', 'Pletelets', 'CPK']\n",
    "df[continuous_cols] = (df[continuous_cols] - df[continuous_cols].mean())/df[continuous_cols].std()"
   ]
  },
  {
   "cell_type": "code",
   "execution_count": 100,
   "metadata": {},
   "outputs": [
    {
     "data": {
      "text/plain": [
       "<Axes: >"
      ]
     },
     "execution_count": 100,
     "metadata": {},
     "output_type": "execute_result"
    },
    {
     "data": {
      "image/png": "[encoded data removed]",
      "text/plain": [
       "<Figure size 640x480 with 2 Axes>"
      ]
     },
     "metadata": {},
     "output_type": "display_data"
    }
   ],
   "source": [
    "# make heatmap\n",
    "corr = abs(df.corr())\n",
    "sns.heatmap(corr, cmap = sns.color_palette(\"ch:s=-.2,r=.6\", as_cmap=True))"
   ]
  },
  {
   "cell_type": "code",
   "execution_count": 101,
   "metadata": {},
   "outputs": [
    {
     "data": {
      "text/html": [
       "<div>\n",
       "<style scoped>\n",
       "    .dataframe tbody tr th:only-of-type {\n",
       "        vertical-align: middle;\n",
       "    }\n",
       "\n",
       "    .dataframe tbody tr th {\n",
       "        vertical-align: top;\n",
       "    }\n",
       "\n",
       "    .dataframe thead th {\n",
       "        text-align: right;\n",
       "    }\n",
       "</style>\n",
       "<table border=\"1\" class=\"dataframe\">\n",
       "  <thead>\n",
       "    <tr style=\"text-align: right;\">\n",
       "      <th></th>\n",
       "      <th>TIME</th>\n",
       "      <th>Event</th>\n",
       "      <th>Gender</th>\n",
       "      <th>Smoking</th>\n",
       "      <th>Diabetes</th>\n",
       "      <th>BP</th>\n",
       "      <th>Anaemia</th>\n",
       "      <th>Age</th>\n",
       "      <th>Ejection.Fraction</th>\n",
       "      <th>Sodium</th>\n",
       "      <th>Creatinine</th>\n",
       "      <th>Pletelets</th>\n",
       "      <th>CPK</th>\n",
       "    </tr>\n",
       "  </thead>\n",
       "  <tbody>\n",
       "    <tr>\n",
       "      <th>0</th>\n",
       "      <td>-0.428541</td>\n",
       "      <td>0</td>\n",
       "      <td>0</td>\n",
       "      <td>0</td>\n",
       "      <td>0</td>\n",
       "      <td>0</td>\n",
       "      <td>1</td>\n",
       "      <td>-1.499300</td>\n",
       "      <td>1.006890</td>\n",
       "      <td>-0.368369</td>\n",
       "      <td>-0.090748</td>\n",
       "      <td>-2.694978e-01</td>\n",
       "      <td>-0.230694</td>\n",
       "    </tr>\n",
       "    <tr>\n",
       "      <th>1</th>\n",
       "      <td>0.640851</td>\n",
       "      <td>0</td>\n",
       "      <td>1</td>\n",
       "      <td>1</td>\n",
       "      <td>1</td>\n",
       "      <td>0</td>\n",
       "      <td>1</td>\n",
       "      <td>1.022808</td>\n",
       "      <td>-0.683035</td>\n",
       "      <td>1.218042</td>\n",
       "      <td>-0.206745</td>\n",
       "      <td>-1.056785e+00</td>\n",
       "      <td>-0.361583</td>\n",
       "    </tr>\n",
       "    <tr>\n",
       "      <th>2</th>\n",
       "      <td>-1.278901</td>\n",
       "      <td>1</td>\n",
       "      <td>1</td>\n",
       "      <td>1</td>\n",
       "      <td>0</td>\n",
       "      <td>1</td>\n",
       "      <td>0</td>\n",
       "      <td>0.770597</td>\n",
       "      <td>-1.527998</td>\n",
       "      <td>-0.594999</td>\n",
       "      <td>0.421572</td>\n",
       "      <td>7.523048e-09</td>\n",
       "      <td>0.000165</td>\n",
       "    </tr>\n",
       "    <tr>\n",
       "      <th>3</th>\n",
       "      <td>-0.557383</td>\n",
       "      <td>0</td>\n",
       "      <td>1</td>\n",
       "      <td>0</td>\n",
       "      <td>0</td>\n",
       "      <td>0</td>\n",
       "      <td>1</td>\n",
       "      <td>0.350246</td>\n",
       "      <td>-1.105517</td>\n",
       "      <td>0.991412</td>\n",
       "      <td>-0.284076</td>\n",
       "      <td>3.541970e-01</td>\n",
       "      <td>-0.285317</td>\n",
       "    </tr>\n",
       "    <tr>\n",
       "      <th>4</th>\n",
       "      <td>-0.222393</td>\n",
       "      <td>0</td>\n",
       "      <td>1</td>\n",
       "      <td>0</td>\n",
       "      <td>0</td>\n",
       "      <td>0</td>\n",
       "      <td>0</td>\n",
       "      <td>0.266176</td>\n",
       "      <td>1.851853</td>\n",
       "      <td>0.084892</td>\n",
       "      <td>-0.380740</td>\n",
       "      <td>-2.183753e-01</td>\n",
       "      <td>1.059645</td>\n",
       "    </tr>\n",
       "  </tbody>\n",
       "</table>\n",
       "</div>"
      ],
      "text/plain": [
       "       TIME  Event  Gender  Smoking  Diabetes  BP  Anaemia       Age  \\\n",
       "0 -0.428541      0       0        0         0   0        1 -1.499300   \n",
       "1  0.640851      0       1        1         1   0        1  1.022808   \n",
       "2 -1.278901      1       1        1         0   1        0  0.770597   \n",
       "3 -0.557383      0       1        0         0   0        1  0.350246   \n",
       "4 -0.222393      0       1        0         0   0        0  0.266176   \n",
       "\n",
       "   Ejection.Fraction    Sodium  Creatinine     Pletelets       CPK  \n",
       "0           1.006890 -0.368369   -0.090748 -2.694978e-01 -0.230694  \n",
       "1          -0.683035  1.218042   -0.206745 -1.056785e+00 -0.361583  \n",
       "2          -1.527998 -0.594999    0.421572  7.523048e-09  0.000165  \n",
       "3          -1.105517  0.991412   -0.284076  3.541970e-01 -0.285317  \n",
       "4           1.851853  0.084892   -0.380740 -2.183753e-01  1.059645  "
      ]
     },
     "execution_count": 101,
     "metadata": {},
     "output_type": "execute_result"
    }
   ],
   "source": [
    "df.head()"
   ]
  },
  {
   "cell_type": "markdown",
   "metadata": {},
   "source": [
    "## model"
   ]
  },
  {
   "cell_type": "code",
   "execution_count": 102,
   "metadata": {},
   "outputs": [],
   "source": [
    "X = df.drop(labels = ['Event'], axis = 1)\n",
    "y = df['Event']\n",
    "\n",
    "X_train, X_test, y_train, y_test = train_test_split(X, y, test_size = 0.2, random_state = 82)"
   ]
  },
  {
   "cell_type": "code",
   "execution_count": 109,
   "metadata": {},
   "outputs": [],
   "source": [
    "## Random Forest Classification\n",
    "NUM_TREES = 100\n",
    "MAX_DEPTH = 20\n",
    "\n",
    "model = RandomForestClassifier(n_estimators = NUM_TREES, max_depth = MAX_DEPTH, criterion='entropy', random_state = 82)"
   ]
  },
  {
   "cell_type": "code",
   "execution_count": 107,
   "metadata": {},
   "outputs": [],
   "source": [
    "model.fit(X_train, y_train)\n",
    "y_pred = model.predict(X_test)"
   ]
  },
  {
   "cell_type": "markdown",
   "metadata": {},
   "source": [
    "## Evaluation"
   ]
  },
  {
   "cell_type": "code",
   "execution_count": 54,
   "metadata": {},
   "outputs": [],
   "source": [
    "def evaluate(y_pred, y_test):\n",
    "    print(\"Accuracy: \" + str(skm.accuracy_score(y_test, y_pred)))\n",
    "    print(\"Precision: \" + str(skm.precision_score(y_test, y_pred)))\n",
    "    print(\"Recall: \"+ str(skm.recall_score(y_test, y_pred)))\n",
    "    print(\"F1: \" + str(skm.f1_score(y_test, y_pred)))\n",
    "    print(\"Confusion Matrix: \" + str(skm.confusion_matrix(y_test, y_pred)))"
   ]
  },
  {
   "cell_type": "code",
   "execution_count": 110,
   "metadata": {},
   "outputs": [
    {
     "name": "stdout",
     "output_type": "stream",
     "text": [
      "Accuracy: 0.9333333333333333\n",
      "Precision: 0.9444444444444444\n",
      "Recall: 0.85\n",
      "F1: 0.8947368421052632\n",
      "Confusion Matrix: [[39  1]\n",
      " [ 3 17]]\n"
     ]
    }
   ],
   "source": [
    "evaluate(y_pred, y_test)"
   ]
  },
  {
   "cell_type": "code",
   "execution_count": 63,
   "metadata": {},
   "outputs": [
    {
     "data": {
      "text/plain": [
       "(<299x3498 sparse matrix of type '<class 'numpy.int64'>'\n",
       " \twith 104287 stored elements in Compressed Sparse Row format>,\n",
       " array([   0,   77,  154,  231,  290,  351,  418,  503,  570,  655,  720,\n",
       "         779,  838,  899,  982, 1055, 1118, 1185, 1252, 1325, 1422, 1497,\n",
       "        1578, 1643, 1698, 1761, 1824, 1887, 1958, 2045, 2116, 2181, 2238,\n",
       "        2317, 2406, 2471, 2544, 2603, 2654, 2723, 2794, 2855, 2932, 2995,\n",
       "        3054, 3143, 3214, 3285, 3368, 3429, 3498]))"
      ]
     },
     "execution_count": 63,
     "metadata": {},
     "output_type": "execute_result"
    }
   ],
   "source": [
    "model.decision_path(X)"
   ]
  }
 ],
 "metadata": {
  "kernelspec": {
   "display_name": "Python 3",
   "language": "python",
   "name": "python3"
  },
  "language_info": {
   "codemirror_mode": {
    "name": "ipython",
    "version": 3
   },
   "file_extension": ".py",
   "mimetype": "text/x-python",
   "name": "python",
   "nbconvert_exporter": "python",
   "pygments_lexer": "ipython3",
   "version": "3.12.2"
  }
 },
 "nbformat": 4,
 "nbformat_minor": 2
}
